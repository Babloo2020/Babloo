{
 "cells": [
  {
   "cell_type": "markdown",
   "id": "b2f3166a-3701-4429-aeee-6b9785f261d8",
   "metadata": {},
   "source": [
    "Q1. Explain with an example each when to use a for loop and a while loop."
   ]
  },
  {
   "cell_type": "markdown",
   "id": "870f1853-763d-4ae4-a99f-452415ab5f23",
   "metadata": {},
   "source": [
    "answer1 :  A for  loop is used for itlerate over a sequence (list , tuple , set , dictonary) and in for loop counter are not used.\n",
    "for example :-"
   ]
  },
  {
   "cell_type": "code",
   "execution_count": 2,
   "id": "cb0a8470-cc05-4c75-b71f-191268495838",
   "metadata": {},
   "outputs": [],
   "source": [
    "l = [\"king\" ,\"pwskills\" ,\"babloo\"]"
   ]
  },
  {
   "cell_type": "code",
   "execution_count": 3,
   "id": "b805f17f-6842-45ca-8813-a994062be457",
   "metadata": {},
   "outputs": [
    {
     "name": "stdout",
     "output_type": "stream",
     "text": [
      "king\n",
      "pwskills\n",
      "babloo\n"
     ]
    }
   ],
   "source": [
    "for i in l:\n",
    "    print (i)"
   ]
  },
  {
   "cell_type": "markdown",
   "id": "42df553f-de94-4ad7-b1fe-08759081f835",
   "metadata": {},
   "source": [
    "A while loop is used to execute as a set of statement and in while loop counter are used."
   ]
  },
  {
   "cell_type": "code",
   "execution_count": 4,
   "id": "f60e7e18-0614-4ea3-b029-069e93463f66",
   "metadata": {},
   "outputs": [
    {
     "name": "stdout",
     "output_type": "stream",
     "text": [
      "2 * 1 = 2\n",
      "2 * 2 = 2\n",
      "2 * 3 = 2\n",
      "2 * 4 = 2\n",
      "2 * 5 = 2\n",
      "2 * 6 = 2\n",
      "2 * 7 = 2\n",
      "2 * 8 = 2\n",
      "2 * 9 = 2\n",
      "2 * 10 = 2\n"
     ]
    }
   ],
   "source": [
    "n = 2\n",
    "i = 1 \n",
    "while i<= 10:\n",
    "    result = n*1\n",
    "    print(n, \"*\", i, \"=\" ,result)\n",
    "    i = i+1"
   ]
  },
  {
   "cell_type": "markdown",
   "id": "fcb447fd-698d-47c9-b73a-604a1c36dc95",
   "metadata": {},
   "source": [
    " Q2 .Write a python program to print the sum and product of the first 10 natural numbers using for\n",
    "and while loop."
   ]
  },
  {
   "cell_type": "code",
   "execution_count": 7,
   "id": "8777fa95-1fbd-4c18-99ff-65dc55d87b23",
   "metadata": {},
   "outputs": [
    {
     "name": "stdout",
     "output_type": "stream",
     "text": [
      "1\n",
      "3\n",
      "6\n",
      "10\n",
      "15\n",
      "21\n",
      "28\n",
      "36\n",
      "45\n",
      "55\n"
     ]
    }
   ],
   "source": [
    "sum = 0 \n",
    "for i in range(1,11):\n",
    "    sum +=i\n",
    "    print (sum)"
   ]
  },
  {
   "cell_type": "code",
   "execution_count": 8,
   "id": "d405ac43-b6e8-4d5c-967a-7d385b316a01",
   "metadata": {},
   "outputs": [
    {
     "name": "stdout",
     "output_type": "stream",
     "text": [
      "1\n",
      "2\n",
      "3\n",
      "4\n",
      "5\n",
      "6\n",
      "7\n",
      "8\n",
      "9\n",
      "10\n"
     ]
    }
   ],
   "source": [
    "product = 0 \n",
    "for i in range(1,11) :\n",
    "    product = i\n",
    "    print(product)"
   ]
  },
  {
   "cell_type": "markdown",
   "id": "8a1c150d-d99d-4661-82fa-64e16fe14036",
   "metadata": {},
   "source": [
    "Q5. Write a program to filter count vowels in the below-given string.\n",
    "string = \"I want to become a data scientist\""
   ]
  },
  {
   "cell_type": "code",
   "execution_count": 9,
   "id": "cfaeb10f-2362-41e9-a13e-98abe8e2cfd5",
   "metadata": {},
   "outputs": [],
   "source": [
    "s  = \"I want to become a data scientist\""
   ]
  },
  {
   "cell_type": "code",
   "execution_count": 10,
   "id": "6a125fdb-22ce-462b-bd13-f83dd02fff3d",
   "metadata": {},
   "outputs": [
    {
     "data": {
      "text/plain": [
       "'I want to become a data scientist'"
      ]
     },
     "execution_count": 10,
     "metadata": {},
     "output_type": "execute_result"
    }
   ],
   "source": [
    "s"
   ]
  },
  {
   "cell_type": "code",
   "execution_count": 29,
   "id": "a71e90a5-74a4-43cc-b6ea-774cc89b4f3f",
   "metadata": {},
   "outputs": [
    {
     "data": {
      "text/plain": [
       "4"
      ]
     },
     "execution_count": 29,
     "metadata": {},
     "output_type": "execute_result"
    }
   ],
   "source": [
    "s.count('a')"
   ]
  },
  {
   "cell_type": "code",
   "execution_count": 24,
   "id": "161bf54c-3044-4054-96b7-886e54f2b073",
   "metadata": {},
   "outputs": [
    {
     "data": {
      "text/plain": [
       "3"
      ]
     },
     "execution_count": 24,
     "metadata": {},
     "output_type": "execute_result"
    }
   ],
   "source": [
    "s.count('e')"
   ]
  },
  {
   "cell_type": "code",
   "execution_count": 25,
   "id": "d9b69b39-ba43-4742-a1f6-24ea66c4c316",
   "metadata": {},
   "outputs": [
    {
     "data": {
      "text/plain": [
       "2"
      ]
     },
     "execution_count": 25,
     "metadata": {},
     "output_type": "execute_result"
    }
   ],
   "source": [
    "s.count('i')"
   ]
  },
  {
   "cell_type": "code",
   "execution_count": 26,
   "id": "ff64e9ce-4ef7-4fa0-ab15-f813da823789",
   "metadata": {},
   "outputs": [
    {
     "data": {
      "text/plain": [
       "2"
      ]
     },
     "execution_count": 26,
     "metadata": {},
     "output_type": "execute_result"
    }
   ],
   "source": [
    "s.count('o')"
   ]
  },
  {
   "cell_type": "code",
   "execution_count": 27,
   "id": "3db00497-f490-4ed4-b7d5-2537d2c22dac",
   "metadata": {},
   "outputs": [
    {
     "data": {
      "text/plain": [
       "0"
      ]
     },
     "execution_count": 27,
     "metadata": {},
     "output_type": "execute_result"
    }
   ],
   "source": [
    "s.count('u')"
   ]
  },
  {
   "cell_type": "markdown",
   "id": "e5efcfbb-df49-4c37-90e4-389604770a5e",
   "metadata": {},
   "source": [
    "Q4. Create a list of numbers from 1 to 100. Use for loop and while loop to calculate the cube of each\n",
    "number and if the cube of that number is divisible by 4 or 5 then append that number in a list and print\n",
    "that list."
   ]
  },
  {
   "cell_type": "code",
   "execution_count": 32,
   "id": "9f855c44-deee-4fd6-ac4f-776fa001cac7",
   "metadata": {},
   "outputs": [
    {
     "name": "stdout",
     "output_type": "stream",
     "text": [
      "[1, 4, 9, 16, 25, 36, 49, 64, 81, 100, 121, 144, 169, 196, 225, 256, 289, 324, 361, 400, 441, 484, 529, 576, 625, 676, 729, 784, 841, 900, 961, 1024, 1089, 1156, 1225, 1296, 1369, 1444, 1521, 1600, 1681, 1764, 1849, 1936, 2025, 2116, 2209, 2304, 2401, 2500, 2601, 2704, 2809, 2916, 3025, 3136, 3249, 3364, 3481, 3600, 3721, 3844, 3969, 4096, 4225, 4356, 4489, 4624, 4761, 4900, 5041, 5184, 5329, 5476, 5625, 5776, 5929, 6084, 6241, 6400, 6561, 6724, 6889, 7056, 7225, 7396, 7569, 7744, 7921, 8100, 8281, 8464, 8649, 8836, 9025, 9216, 9409, 9604, 9801, 10000]\n"
     ]
    }
   ],
   "source": [
    "x = []\n",
    "for i in range (1,101):\n",
    "      x.append(i**3)\n",
    "print(x)"
   ]
  },
  {
   "cell_type": "code",
   "execution_count": null,
   "id": "6da3ed10-1826-455b-acaf-1b7bf91b74aa",
   "metadata": {},
   "outputs": [],
   "source": []
  }
 ],
 "metadata": {
  "kernelspec": {
   "display_name": "Python 3 (ipykernel)",
   "language": "python",
   "name": "python3"
  },
  "language_info": {
   "codemirror_mode": {
    "name": "ipython",
    "version": 3
   },
   "file_extension": ".py",
   "mimetype": "text/x-python",
   "name": "python",
   "nbconvert_exporter": "python",
   "pygments_lexer": "ipython3",
   "version": "3.10.8"
  }
 },
 "nbformat": 4,
 "nbformat_minor": 5
}
